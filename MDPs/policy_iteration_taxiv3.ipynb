{
 "cells": [
  {
   "cell_type": "code",
   "execution_count": 1,
   "id": "intensive-barcelona",
   "metadata": {},
   "outputs": [],
   "source": [
    "import gym\n",
    "import numpy as np\n",
    "import random\n",
    "import time\n",
    "from IPython import display"
   ]
  },
  {
   "cell_type": "code",
   "execution_count": 2,
   "id": "identified-dream",
   "metadata": {},
   "outputs": [],
   "source": [
    "env = gym.make('Taxi-v3')"
   ]
  },
  {
   "cell_type": "code",
   "execution_count": 3,
   "id": "skilled-appliance",
   "metadata": {},
   "outputs": [
    {
     "name": "stdout",
     "output_type": "stream",
     "text": [
      "num of states: 500\n",
      "num of actions: 6\n"
     ]
    }
   ],
   "source": [
    "# num of state\n",
    "ns = env.observation_space.n\n",
    "#num of action\n",
    "na = env.action_space.n\n",
    "print(f'num of states: {ns}\\nnum of actions: {na}')"
   ]
  },
  {
   "cell_type": "code",
   "execution_count": 4,
   "id": "disturbed-respect",
   "metadata": {},
   "outputs": [
    {
     "data": {
      "text/plain": [
       "[(1.0, 16, -1, False)]"
      ]
     },
     "execution_count": 4,
     "metadata": {},
     "output_type": "execute_result"
    }
   ],
   "source": [
    "env.P[0][4]"
   ]
  },
  {
   "cell_type": "code",
   "execution_count": 5,
   "id": "capital-tokyo",
   "metadata": {},
   "outputs": [],
   "source": [
    "def policy_evaluation(policy, v_values, gamma=0.9):\n",
    "    steps = 0\n",
    "    flag = False # not yet converge\n",
    "    while(1):\n",
    "        steps += 1  \n",
    "        pre_v_values = np.copy(v_values)\n",
    "        #compute v_value for each state\n",
    "        for state in range(ns):\n",
    "            # select the action by policy for the state\n",
    "            action = policy[state]\n",
    "            # differ from FrokenLake, there one outcome\n",
    "            [(prob, next_state, reward, done)] = env.P[state][action]\n",
    "            q_value = prob*(reward + gamma*pre_v_values[next_state])\n",
    "            v_values[state] = q_value\n",
    "        flag = np.all(np.isclose(pre_v_values, v_values))\n",
    "        if flag: # if converge\n",
    "            print(\"steps\", steps)\n",
    "            break\n",
    "    return v_values"
   ]
  },
  {
   "cell_type": "code",
   "execution_count": 6,
   "id": "vanilla-catalyst",
   "metadata": {},
   "outputs": [],
   "source": [
    "def policy_improvement(policy, v_values, gamma=0.9):\n",
    "    prove_policy = np.copy(policy)\n",
    "    # improve for each state\n",
    "    for state in range(ns):\n",
    "        q_values = []\n",
    "        for action in range(na):\n",
    "            [(prob, next_state, reward, done)] = env.P[state][action]\n",
    "            q_value = prob*(reward + gamma*v_values[next_state])\n",
    "            q_values.append(q_value)\n",
    "        # select the best action\n",
    "        best_action = np.argmax(q_values)\n",
    "        prove_policy[state] = best_action\n",
    "    return prove_policy"
   ]
  },
  {
   "cell_type": "code",
   "execution_count": 7,
   "id": "authentic-generation",
   "metadata": {},
   "outputs": [],
   "source": [
    "def policy_iteration(gamma=0.9):\n",
    "    # init a random policy\n",
    "    policy = [random.randint(0, 5) for _ in range(ns)]\n",
    "    # init v_values = 0\n",
    "    v_values = np.zeros(ns)\n",
    "    flag = False # not yet converge\n",
    "    step = 0\n",
    "    while(1):\n",
    "        step += 1\n",
    "        pre_policy = np.copy(policy)\n",
    "        # evalua policy\n",
    "        v_values = policy_evaluation(pre_policy, v_values, gamma)\n",
    "        # improve policy\n",
    "        policy = policy_improvement(pre_policy, v_values, gamma)\n",
    "        # check converge\n",
    "        flag = np.all(np.isclose(pre_policy, policy))\n",
    "        if flag:\n",
    "            print(f'converge after: {step} steps')\n",
    "            break\n",
    "    return policy"
   ]
  },
  {
   "cell_type": "code",
   "execution_count": 8,
   "id": "collected-witness",
   "metadata": {},
   "outputs": [
    {
     "name": "stdout",
     "output_type": "stream",
     "text": [
      "steps 93\n",
      "steps 110\n",
      "steps 100\n",
      "steps 100\n",
      "steps 4\n",
      "steps 4\n",
      "steps 6\n",
      "steps 6\n",
      "steps 6\n",
      "steps 6\n",
      "steps 4\n",
      "steps 6\n",
      "steps 2\n",
      "steps 4\n",
      "steps 2\n",
      "steps 2\n",
      "steps 2\n",
      "steps 2\n",
      "converge after: 18 steps\n"
     ]
    }
   ],
   "source": [
    "policy = policy_iteration(gamma=0.9)"
   ]
  },
  {
   "cell_type": "code",
   "execution_count": 9,
   "id": "aware-watch",
   "metadata": {},
   "outputs": [
    {
     "name": "stdout",
     "output_type": "stream",
     "text": [
      "[4 4 4 4 0 0 0 0 0 0 0 0 0 0 0 0 5 0 0 0 3 3 3 3 0 0 0 0 0 0 0 0 0 0 0 0 3\n",
      " 0 0 0 0 0 0 0 2 2 2 2 0 0 0 0 0 0 0 0 0 2 0 0 0 0 0 0 2 2 2 2 0 0 0 0 0 0\n",
      " 0 0 0 2 0 0 0 0 0 0 4 4 4 4 0 0 0 0 0 0 0 0 0 5 0 0 1 1 1 1 0 0 0 0 0 0 0\n",
      " 0 0 0 0 0 1 0 0 0 1 1 1 1 0 0 0 0 0 0 0 0 0 0 0 0 1 0 0 0 0 0 0 0 1 1 1 1\n",
      " 0 0 0 0 0 0 0 0 0 1 0 0 0 0 0 0 1 1 1 1 0 0 0 0 0 0 0 0 0 1 0 0 0 0 0 0 1\n",
      " 1 1 1 0 0 0 0 0 0 0 0 0 1 0 0 1 1 1 1 2 2 2 2 0 0 0 0 2 2 2 2 1 2 0 2 1 1\n",
      " 1 1 2 2 2 2 3 3 3 3 2 2 2 2 1 2 3 2 3 3 3 3 1 1 1 1 3 3 3 3 2 2 2 2 3 1 3\n",
      " 2 3 3 3 3 1 1 1 1 3 3 3 3 0 0 0 0 3 1 3 0 3 3 3 3 1 1 1 1 3 3 3 3 0 0 0 0\n",
      " 3 1 3 0 1 1 1 1 1 1 1 1 0 0 0 0 1 1 1 1 1 1 0 1 1 1 1 1 1 1 1 1 1 1 1 1 1\n",
      " 1 1 1 1 1 1 1 1 1 1 1 1 1 1 1 1 1 1 1 1 1 1 1 1 1 1 1 1 1 1 1 1 1 1 1 1 1\n",
      " 1 1 0 0 0 0 1 1 1 0 1 1 1 1 1 1 1 1 1 1 1 1 0 0 0 0 1 1 1 0 1 1 1 1 1 1 1\n",
      " 1 4 4 4 4 1 1 1 1 1 1 5 1 1 1 1 1 1 1 1 1 1 1 1 1 1 1 1 1 1 1 1 1 1 1 1 1\n",
      " 1 1 1 1 1 1 1 1 1 1 1 1 1 1 1 1 1 1 1 1 1 1 1 1 1 1 1 1 4 4 4 4 1 1 1 5 1\n",
      " 1 1 1 1 1 1 1 1 1 1 1 3 3 3 3 1 1 1 3]\n"
     ]
    }
   ],
   "source": [
    "print(policy)"
   ]
  },
  {
   "cell_type": "code",
   "execution_count": 10,
   "id": "divine-keyboard",
   "metadata": {},
   "outputs": [],
   "source": [
    "def play(env, policy):\n",
    "    state = env.reset()\n",
    "    total_reward = 0\n",
    "    done = False\n",
    "    steps = 0\n",
    "    time.sleep(1)\n",
    "    display.clear_output(wait=True)\n",
    "    while not done:\n",
    "        action = policy[state]\n",
    "        next_state, reward, done, info = env.step(action)\n",
    "        total_reward += reward\n",
    "        steps += 1\n",
    "        print(f'Step {steps}')\n",
    "        env.render()\n",
    "        time.sleep(1)\n",
    "        if not done:\n",
    "           display.clear_output(wait=True)\n",
    "        state = next_state\n",
    "\n",
    "    return total_reward"
   ]
  },
  {
   "cell_type": "code",
   "execution_count": 11,
   "id": "chronic-stanford",
   "metadata": {},
   "outputs": [
    {
     "name": "stdout",
     "output_type": "stream",
     "text": [
      "Step 13\n",
      "+---------+\n",
      "|R: | : :\u001b[35m\u001b[34;1m\u001b[43mG\u001b[0m\u001b[0m\u001b[0m|\n",
      "| : | : : |\n",
      "| : : : : |\n",
      "| | : | : |\n",
      "|Y| : |B: |\n",
      "+---------+\n",
      "  (Dropoff)\n",
      "reward 8\n"
     ]
    }
   ],
   "source": [
    "total_reward = play(env, policy)\n",
    "print('reward', total_reward)"
   ]
  }
 ],
 "metadata": {
  "kernelspec": {
   "display_name": "Python 3",
   "language": "python",
   "name": "python3"
  },
  "language_info": {
   "codemirror_mode": {
    "name": "ipython",
    "version": 3
   },
   "file_extension": ".py",
   "mimetype": "text/x-python",
   "name": "python",
   "nbconvert_exporter": "python",
   "pygments_lexer": "ipython3",
   "version": "3.9.1"
  }
 },
 "nbformat": 4,
 "nbformat_minor": 5
}
