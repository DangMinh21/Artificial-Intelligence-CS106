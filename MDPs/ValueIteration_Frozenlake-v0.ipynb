{
 "cells": [
  {
   "cell_type": "code",
   "execution_count": 58,
   "metadata": {
    "id": "2EfdvH5hSDXm"
   },
   "outputs": [],
   "source": [
    "import gym\n",
    "import numpy as np\n",
    "import time\n",
    "from IPython import display"
   ]
  },
  {
   "cell_type": "code",
   "execution_count": 59,
   "metadata": {
    "id": "iRO2o9axS4bS"
   },
   "outputs": [],
   "source": [
    "# env = gym.make('FrozenLake-v0')\n",
    "env = gym.make('FrozenLake8x8-v0')"
   ]
  },
  {
   "cell_type": "code",
   "execution_count": 60,
   "metadata": {
    "colab": {
     "base_uri": "https://localhost:8080/"
    },
    "id": "D7x8blfWUtgJ",
    "outputId": "f9901e96-4489-4514-e9cb-433bbdbfecbd"
   },
   "outputs": [
    {
     "data": {
      "text/plain": [
       "[(0.3333333333333333, 0, 0.0, False),\n",
       " (0.3333333333333333, 0, 0.0, False),\n",
       " (0.3333333333333333, 8, 0.0, False)]"
      ]
     },
     "execution_count": 60,
     "metadata": {},
     "output_type": "execute_result"
    }
   ],
   "source": [
    "env.P[0][0]"
   ]
  },
  {
   "cell_type": "code",
   "execution_count": 61,
   "metadata": {
    "colab": {
     "base_uri": "https://localhost:8080/"
    },
    "id": "Xp56rqQ6VVU-",
    "outputId": "f2fda31c-abe1-40e8-debe-e92004501d80"
   },
   "outputs": [
    {
     "data": {
      "text/plain": [
       "64"
      ]
     },
     "execution_count": 61,
     "metadata": {},
     "output_type": "execute_result"
    }
   ],
   "source": [
    "env.observation_space.n"
   ]
  },
  {
   "cell_type": "code",
   "execution_count": 62,
   "metadata": {
    "colab": {
     "base_uri": "https://localhost:8080/"
    },
    "id": "urV-N8QSVZm2",
    "outputId": "8864bd41-c43d-42c8-e3a3-2e1bbd859ff0"
   },
   "outputs": [
    {
     "data": {
      "text/plain": [
       "4"
      ]
     },
     "execution_count": 62,
     "metadata": {},
     "output_type": "execute_result"
    }
   ],
   "source": [
    "env.action_space.n"
   ]
  },
  {
   "cell_type": "code",
   "execution_count": 63,
   "metadata": {
    "id": "-llzIO6xU9bm"
   },
   "outputs": [],
   "source": [
    "def value_iteration(env, max_iters, gamma):\n",
    "    v_values = np.zeros(env.observation_space.n)\n",
    "\n",
    "    for i in range(max_iters):\n",
    "        prev_v_values = np.copy(v_values)\n",
    "\n",
    "        # Compute the value for state\n",
    "        for state in range(env.observation_space.n):\n",
    "            q_values = []\n",
    "            # Compute the q-value for each action\n",
    "            for action in range(env.action_space.n):\n",
    "                q_value = 0\n",
    "                # Loop through each possible outcome\n",
    "                for prob, next_state, reward, done in env.P[state][action]:\n",
    "                    q_value += prob * (reward + gamma * prev_v_values[next_state])\n",
    "                \n",
    "                q_values.append(q_value)\n",
    "            \n",
    "            # Select the best action\n",
    "            best_action = np.argmax(q_values)\n",
    "            v_values[state] = q_values[best_action]\n",
    "        \n",
    "        # Check convergence\n",
    "        if np.all(np.isclose(v_values, prev_v_values)):\n",
    "            print(f'Converged at {i}-th iteration.')\n",
    "            break\n",
    "    \n",
    "    return v_values"
   ]
  },
  {
   "cell_type": "code",
   "execution_count": 64,
   "metadata": {
    "colab": {
     "base_uri": "https://localhost:8080/"
    },
    "id": "k68jaXmJXTvR",
    "outputId": "ab942409-b6e2-4936-b6a3-269f441d9a76"
   },
   "outputs": [
    {
     "name": "stdout",
     "output_type": "stream",
     "text": [
      "Converged at 117-th iteration.\n"
     ]
    }
   ],
   "source": [
    "v_values = value_iteration(env, max_iters=1000, gamma=0.9)"
   ]
  },
  {
   "cell_type": "code",
   "execution_count": 65,
   "metadata": {
    "id": "jNbLFNwsXhNF"
   },
   "outputs": [],
   "source": [
    "def policy_extraction(env, v_values, gamma=0.9):\n",
    "    policy = np.zeros(env.observation_space.n, dtype=np.int)\n",
    "\n",
    "    # Compute the best action for each state in the game\n",
    "    # Compute q-value for each (state-action) pair in the game\n",
    "    for state in range(env.observation_space.n):\n",
    "        q_values = []\n",
    "        # Compute q_value for each action\n",
    "        for action in range(env.action_space.n):\n",
    "            q_value = 0\n",
    "            # Loop through each possible outcome\n",
    "            for prob, next_state, reward, done in env.P[state][action]:\n",
    "                q_value += prob * (reward + gamma * v_values[next_state])\n",
    "            q_values.append(q_value)\n",
    "        \n",
    "        # Select the best action\n",
    "        best_action = np.argmax(q_values)\n",
    "        policy[state] = best_action\n",
    "    \n",
    "    return policy"
   ]
  },
  {
   "cell_type": "code",
   "execution_count": 66,
   "metadata": {
    "id": "rufJ7WjSYGEG"
   },
   "outputs": [],
   "source": [
    "policy = policy_extraction(env, v_values, gamma=0.9)"
   ]
  },
  {
   "cell_type": "code",
   "execution_count": 67,
   "metadata": {
    "colab": {
     "base_uri": "https://localhost:8080/"
    },
    "id": "Go1TgtWAm8JU",
    "outputId": "117afe11-2efa-42c5-abcf-f4e95f0cb605"
   },
   "outputs": [
    {
     "data": {
      "text/plain": [
       "array([3, 2, 2, 2, 2, 2, 2, 2, 3, 3, 3, 3, 2, 2, 2, 1, 3, 3, 0, 0, 2, 3,\n",
       "       2, 1, 3, 3, 3, 1, 0, 0, 2, 1, 3, 3, 0, 0, 2, 1, 3, 2, 0, 0, 0, 1,\n",
       "       3, 0, 0, 2, 0, 0, 1, 0, 0, 0, 0, 2, 0, 1, 0, 0, 1, 1, 1, 0])"
      ]
     },
     "execution_count": 67,
     "metadata": {},
     "output_type": "execute_result"
    }
   ],
   "source": [
    "policy"
   ]
  },
  {
   "cell_type": "code",
   "execution_count": 68,
   "metadata": {
    "id": "cca5B02dZAl2"
   },
   "outputs": [],
   "source": [
    "def play(env, policy):\n",
    "    state = env.reset()\n",
    "    total_reward = 0\n",
    "    done = False\n",
    "    steps = 0\n",
    "    time.sleep(1)\n",
    "    display.clear_output(wait=True)\n",
    "    while not done:\n",
    "        action = policy[state]\n",
    "        next_state, reward, done, info = env.step(action)\n",
    "        total_reward += reward\n",
    "        steps += 1\n",
    "        print(f'Step {steps}')\n",
    "        env.render()\n",
    "        time.sleep(0.2)\n",
    "        if not done:\n",
    "           display.clear_output(wait=True)\n",
    "        state = next_state\n",
    "\n",
    "    return total_reward"
   ]
  },
  {
   "cell_type": "code",
   "execution_count": 69,
   "metadata": {
    "colab": {
     "base_uri": "https://localhost:8080/"
    },
    "id": "w46kFNsGZ2o1",
    "outputId": "f369170f-378a-49c2-94fe-c84dfed56569"
   },
   "outputs": [
    {
     "name": "stdout",
     "output_type": "stream",
     "text": [
      "Step 63\n",
      "  (Right)\n",
      "SFFFFFFF\n",
      "FFFFFFFF\n",
      "FFFHFFFF\n",
      "FFFFFHFF\n",
      "FFFHFFFF\n",
      "FHHFFFHF\n",
      "FHFFHFHF\n",
      "FFFHFFF\u001b[41mG\u001b[0m\n"
     ]
    },
    {
     "data": {
      "text/plain": [
       "1.0"
      ]
     },
     "execution_count": 69,
     "metadata": {},
     "output_type": "execute_result"
    }
   ],
   "source": [
    "play(env, policy)"
   ]
  },
  {
   "cell_type": "code",
   "execution_count": 70,
   "metadata": {
    "id": "-nrMm7uyZ5we"
   },
   "outputs": [],
   "source": [
    "def play_multiple_times(env, policy, max_episodes):\n",
    "    success = 0\n",
    "\n",
    "    for i in range(max_episodes):\n",
    "        reward = play(env, policy)\n",
    "\n",
    "        if reward > 0:\n",
    "            success += 1\n",
    "    \n",
    "    print(f'Number of successes: {success}/{max_episodes}')"
   ]
  },
  {
   "cell_type": "code",
   "execution_count": 71,
   "metadata": {
    "colab": {
     "base_uri": "https://localhost:8080/"
    },
    "id": "n4K4We01a6gm",
    "outputId": "09c06b1f-d4ea-442b-eaea-cc8244b6f084"
   },
   "outputs": [],
   "source": [
    "# play_multiple_times(env, policy, 1000)"
   ]
  }
 ],
 "metadata": {
  "colab": {
   "name": "ValueIteration.ipynb",
   "provenance": []
  },
  "kernelspec": {
   "display_name": "Python 3",
   "language": "python",
   "name": "python3"
  },
  "language_info": {
   "codemirror_mode": {
    "name": "ipython",
    "version": 3
   },
   "file_extension": ".py",
   "mimetype": "text/x-python",
   "name": "python",
   "nbconvert_exporter": "python",
   "pygments_lexer": "ipython3",
   "version": "3.9.1"
  }
 },
 "nbformat": 4,
 "nbformat_minor": 1
}
