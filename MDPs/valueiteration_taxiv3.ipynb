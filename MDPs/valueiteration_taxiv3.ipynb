{
 "cells": [
  {
   "cell_type": "code",
   "execution_count": 12,
   "id": "dirty-marine",
   "metadata": {},
   "outputs": [],
   "source": [
    "import gym\n",
    "import numpy as np\n",
    "import time\n",
    "from IPython import display"
   ]
  },
  {
   "cell_type": "code",
   "execution_count": 13,
   "id": "competent-translator",
   "metadata": {},
   "outputs": [],
   "source": [
    "env = gym.make('Taxi-v3')"
   ]
  },
  {
   "cell_type": "code",
   "execution_count": 14,
   "id": "sunrise-style",
   "metadata": {},
   "outputs": [
    {
     "name": "stdout",
     "output_type": "stream",
     "text": [
      "num of states: 500\n",
      "num of actions: 6\n"
     ]
    }
   ],
   "source": [
    "# num of state\n",
    "ns = env.observation_space.n\n",
    "#num of action\n",
    "na = env.action_space.n\n",
    "print(f'num of states: {ns}\\nnum of actions: {na}')"
   ]
  },
  {
   "cell_type": "code",
   "execution_count": 15,
   "id": "latter-bridal",
   "metadata": {},
   "outputs": [
    {
     "data": {
      "text/plain": [
       "[(1.0, 16, -1, False)]"
      ]
     },
     "execution_count": 15,
     "metadata": {},
     "output_type": "execute_result"
    }
   ],
   "source": [
    "env.P[0][4]"
   ]
  },
  {
   "cell_type": "code",
   "execution_count": 16,
   "id": "incorporate-worse",
   "metadata": {},
   "outputs": [],
   "source": [
    "def value_iteration(gamma = 0.9, max_iter = 1000):\n",
    "    # init v_values\n",
    "    v_values = np.zeros(ns)\n",
    "    for i in range(max_iter):\n",
    "        pre_v_values = np.copy(v_values)\n",
    "        # compute v_value for each state\n",
    "        for state in range(ns):\n",
    "            q_values = []\n",
    "            #compute q_value for each action\n",
    "            for action in range(na):\n",
    "                # differ from FrokenLake, there one outcome\n",
    "                [(prob, next_state, reward, done)] = env.P[state][action]\n",
    "                q_value = prob*(reward + gamma*pre_v_values[next_state])\n",
    "                q_values.append(q_value)\n",
    "                \n",
    "            # select the best action\n",
    "            max_q_value = np.max(q_values)\n",
    "            v_values[state] = max_q_value\n",
    "        #check converge\n",
    "        if np.all(np.isclose(pre_v_values, v_values)):\n",
    "            print(f'convergence after: {i} steps')\n",
    "            break\n",
    "    return v_values  "
   ]
  },
  {
   "cell_type": "code",
   "execution_count": 17,
   "id": "published-lesbian",
   "metadata": {},
   "outputs": [],
   "source": [
    "def policy_extraction(v_value, gamma):\n",
    "    policy = np.zeros(ns, dtype=np.int)\n",
    "    # find policy for each state\n",
    "    for state in range(ns):\n",
    "        q_values = []\n",
    "        #compute q_value for each action\n",
    "        for action in range(na):\n",
    "            [(prob, next_state, reward, done)] = env.P[state][action]\n",
    "            q_value = prob*(reward + gamma*v_values[next_state])\n",
    "            q_values.append(q_value)\n",
    "        #select the best action\n",
    "        best_action = np.argmax(q_values)\n",
    "        policy[state] = best_action\n",
    "    return policy"
   ]
  },
  {
   "cell_type": "code",
   "execution_count": 18,
   "id": "brave-labor",
   "metadata": {},
   "outputs": [
    {
     "name": "stdout",
     "output_type": "stream",
     "text": [
      "convergence after: 116 steps\n"
     ]
    }
   ],
   "source": [
    "v_values = value_iteration(gamma=0.9, max_iter=1000)"
   ]
  },
  {
   "cell_type": "code",
   "execution_count": 19,
   "id": "charitable-priest",
   "metadata": {},
   "outputs": [],
   "source": [
    "policy = policy_extraction(v_values, gamma=0.9)"
   ]
  },
  {
   "cell_type": "code",
   "execution_count": 20,
   "id": "square-philippines",
   "metadata": {},
   "outputs": [
    {
     "name": "stdout",
     "output_type": "stream",
     "text": [
      "[4 4 4 4 0 0 0 0 0 0 0 0 0 0 0 0 5 0 0 0 3 3 3 3 0 0 0 0 0 0 0 0 0 0 0 0 3\n",
      " 0 0 0 0 0 0 0 2 2 2 2 0 0 0 0 0 0 0 0 0 2 0 0 0 0 0 0 2 2 2 2 0 0 0 0 0 0\n",
      " 0 0 0 2 0 0 0 0 0 0 4 4 4 4 0 0 0 0 0 0 0 0 0 5 0 0 1 1 1 1 0 0 0 0 0 0 0\n",
      " 0 0 0 0 0 1 0 0 0 1 1 1 1 0 0 0 0 0 0 0 0 0 0 0 0 1 0 0 0 0 0 0 0 1 1 1 1\n",
      " 0 0 0 0 0 0 0 0 0 1 0 0 0 0 0 0 1 1 1 1 0 0 0 0 0 0 0 0 0 1 0 0 0 0 0 0 1\n",
      " 1 1 1 0 0 0 0 0 0 0 0 0 1 0 0 1 1 1 1 2 2 2 2 0 0 0 0 2 2 2 2 1 2 0 2 1 1\n",
      " 1 1 2 2 2 2 3 3 3 3 2 2 2 2 1 2 3 2 3 3 3 3 1 1 1 1 3 3 3 3 2 2 2 2 3 1 3\n",
      " 2 3 3 3 3 1 1 1 1 3 3 3 3 0 0 0 0 3 1 3 0 3 3 3 3 1 1 1 1 3 3 3 3 0 0 0 0\n",
      " 3 1 3 0 1 1 1 1 1 1 1 1 0 0 0 0 1 1 1 1 1 1 0 1 1 1 1 1 1 1 1 1 1 1 1 1 1\n",
      " 1 1 1 1 1 1 1 1 1 1 1 1 1 1 1 1 1 1 1 1 1 1 1 1 1 1 1 1 1 1 1 1 1 1 1 1 1\n",
      " 1 1 0 0 0 0 1 1 1 0 1 1 1 1 1 1 1 1 1 1 1 1 0 0 0 0 1 1 1 0 1 1 1 1 1 1 1\n",
      " 1 4 4 4 4 1 1 1 1 1 1 5 1 1 1 1 1 1 1 1 1 1 1 1 1 1 1 1 1 1 1 1 1 1 1 1 1\n",
      " 1 1 1 1 1 1 1 1 1 1 1 1 1 1 1 1 1 1 1 1 1 1 1 1 1 1 1 1 4 4 4 4 1 1 1 5 1\n",
      " 1 1 1 1 1 1 1 1 1 1 1 3 3 3 3 1 1 1 3]\n"
     ]
    }
   ],
   "source": [
    "print(policy)"
   ]
  },
  {
   "cell_type": "code",
   "execution_count": 21,
   "id": "sitting-merchant",
   "metadata": {},
   "outputs": [],
   "source": [
    "def play(env, policy):\n",
    "    state = env.reset()\n",
    "    total_reward = 0\n",
    "    done = False\n",
    "    steps = 0\n",
    "    time.sleep(1)\n",
    "    display.clear_output(wait=True)\n",
    "    while not done:\n",
    "        action = policy[state]\n",
    "        next_state, reward, done, info = env.step(action)\n",
    "        total_reward += reward\n",
    "        steps += 1\n",
    "        print(f'Step {steps}')\n",
    "        env.render()\n",
    "        time.sleep(0.5)\n",
    "        if not done:\n",
    "           display.clear_output(wait=True)\n",
    "        state = next_state\n",
    "\n",
    "    return total_reward"
   ]
  },
  {
   "cell_type": "code",
   "execution_count": 22,
   "id": "unlike-advocacy",
   "metadata": {},
   "outputs": [
    {
     "name": "stdout",
     "output_type": "stream",
     "text": [
      "Step 13\n",
      "+---------+\n",
      "|\u001b[35m\u001b[34;1m\u001b[43mR\u001b[0m\u001b[0m\u001b[0m: | : :G|\n",
      "| : | : : |\n",
      "| : : : : |\n",
      "| | : | : |\n",
      "|Y| : |B: |\n",
      "+---------+\n",
      "  (Dropoff)\n",
      "reward 8\n"
     ]
    }
   ],
   "source": [
    "total_reward = play(env, policy)\n",
    "print('reward', total_reward)"
   ]
  }
 ],
 "metadata": {
  "kernelspec": {
   "display_name": "Python 3",
   "language": "python",
   "name": "python3"
  },
  "language_info": {
   "codemirror_mode": {
    "name": "ipython",
    "version": 3
   },
   "file_extension": ".py",
   "mimetype": "text/x-python",
   "name": "python",
   "nbconvert_exporter": "python",
   "pygments_lexer": "ipython3",
   "version": "3.9.1"
  }
 },
 "nbformat": 4,
 "nbformat_minor": 5
}
