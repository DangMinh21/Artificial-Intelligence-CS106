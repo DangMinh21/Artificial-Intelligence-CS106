{
 "cells": [
  {
   "cell_type": "code",
   "execution_count": 33,
   "id": "attractive-marketing",
   "metadata": {},
   "outputs": [],
   "source": [
    "import gym\n",
    "import numpy as np\n",
    "import random \n",
    "import time\n",
    "from IPython import display"
   ]
  },
  {
   "cell_type": "code",
   "execution_count": 34,
   "id": "infrared-shooting",
   "metadata": {},
   "outputs": [],
   "source": [
    "# env = gym.make('FrozenLake-v0')\n",
    "env = gym.make('FrozenLake8x8-v0')"
   ]
  },
  {
   "cell_type": "code",
   "execution_count": 35,
   "id": "bright-thailand",
   "metadata": {},
   "outputs": [
    {
     "name": "stdout",
     "output_type": "stream",
     "text": [
      "number of state: 64\n",
      "number of action: 4\n"
     ]
    }
   ],
   "source": [
    "# number of state\n",
    "ns = env.observation_space.n\n",
    "# number of action\n",
    "na = env.action_space.n\n",
    "print(f'number of state: {ns}\\nnumber of action: {na}')"
   ]
  },
  {
   "cell_type": "code",
   "execution_count": 36,
   "id": "cellular-legislature",
   "metadata": {},
   "outputs": [],
   "source": [
    "# evalua the policy\n",
    "def policy_evaluation(policy, v_values, gamma):\n",
    "    flag = False # not yet converge\n",
    "    steps = 0\n",
    "    while(1):\n",
    "        steps += 1\n",
    "        pre_v_values = np.copy(v_values)\n",
    "        # compute the value for state\n",
    "        for state in range(ns):\n",
    "            # select action given by policy\n",
    "            action = policy[state]\n",
    "            q_value = 0\n",
    "            # compute q_value for the action\n",
    "            # Loop through each possible outcome\n",
    "            for prob, next_state, reward, done in env.P[state][action]:\n",
    "                q_value += prob*(reward + gamma*pre_v_values[next_state])\n",
    "            v_values[state] = q_value\n",
    "        #check convergence\n",
    "        flag = np.all(np.isclose(v_values, pre_v_values))\n",
    "        if flag:\n",
    "            print(\"steps: \", steps)\n",
    "            break\n",
    "    return v_values"
   ]
  },
  {
   "cell_type": "code",
   "execution_count": 37,
   "id": "reliable-indication",
   "metadata": {},
   "outputs": [],
   "source": [
    "# improve policy\n",
    "def policy_improvement(policy, v_values, gamma=0.9):\n",
    "    prove_policy = policy.copy()\n",
    "    # update each state\n",
    "    for state in range(ns):\n",
    "        q_values = []\n",
    "        # compute q_value for each action\n",
    "        for action in range(na):\n",
    "            q_value = 0\n",
    "            # each possible outcome\n",
    "            for prob, next_state, reward, done in env.P[state][action]:\n",
    "                q_value += prob*(reward + gamma * v_values[next_state])\n",
    "            q_values.append(q_value)\n",
    "        #select the best action\n",
    "        best_action = np.argmax(q_values)\n",
    "        prove_policy[state] =best_action\n",
    "    return prove_policy  "
   ]
  },
  {
   "cell_type": "code",
   "execution_count": 38,
   "id": "civic-argument",
   "metadata": {},
   "outputs": [],
   "source": [
    "def policy_iteration(gamma = 0.9):\n",
    "    # initially policy by random\n",
    "    policy = [random.randint(0, 3) for _ in range(ns)]\n",
    "    # initial v_value for all state: v_value = 0\n",
    "    v_values = np.zeros(ns)\n",
    "    flag = False # not yet converge\n",
    "    step = 0\n",
    "    while(1):\n",
    "        step += 1\n",
    "        pre_policy = policy.copy()\n",
    "        v_values = policy_evaluation(pre_policy, v_values, gamma)\n",
    "        policy = policy_improvement(pre_policy, v_values, gamma)\n",
    "        flag = np.all(np.isclose(policy, pre_policy))\n",
    "        if flag: # if converge\n",
    "            print(f'convergence after: {step} steptimes')\n",
    "            break\n",
    "    return policy"
   ]
  },
  {
   "cell_type": "code",
   "execution_count": 39,
   "id": "southwest-mozambique",
   "metadata": {},
   "outputs": [
    {
     "name": "stdout",
     "output_type": "stream",
     "text": [
      "steps:  2\n",
      "steps:  32\n",
      "steps:  90\n",
      "steps:  69\n",
      "steps:  43\n",
      "steps:  35\n",
      "steps:  54\n",
      "steps:  60\n",
      "steps:  50\n",
      "convergence after: 9 steptimes\n",
      "[3, 2, 2, 2, 2, 2, 2, 2, 3, 3, 3, 3, 2, 2, 2, 1, 3, 3, 0, 0, 2, 3, 2, 1, 3, 3, 3, 1, 0, 0, 2, 1, 3, 3, 0, 0, 2, 1, 3, 2, 0, 0, 0, 1, 3, 0, 0, 2, 0, 0, 1, 0, 0, 0, 0, 2, 0, 1, 0, 0, 1, 1, 1, 0]\n"
     ]
    }
   ],
   "source": [
    "gamma = 0.9\n",
    "policy = policy_iteration(gamma)\n",
    "print(policy)"
   ]
  },
  {
   "cell_type": "code",
   "execution_count": 40,
   "id": "atmospheric-bicycle",
   "metadata": {},
   "outputs": [],
   "source": [
    "def play(policy):\n",
    "    state = env.reset()\n",
    "    total_reward = 0\n",
    "    done = False\n",
    "    steps = 0\n",
    "    time.sleep(1)\n",
    "    display.clear_output(wait=True)\n",
    "    while not done:\n",
    "        action = policy[state]\n",
    "        next_state, reward, done, info = env.step(action)\n",
    "        total_reward += reward\n",
    "        steps += 1\n",
    "        print(f'Step {steps}')\n",
    "        env.render()\n",
    "        time.sleep(0.2)\n",
    "        if not done:\n",
    "           display.clear_output(wait=True)\n",
    "        state = next_state\n",
    "\n",
    "    return total_reward"
   ]
  },
  {
   "cell_type": "code",
   "execution_count": 44,
   "id": "tamil-disorder",
   "metadata": {},
   "outputs": [
    {
     "name": "stdout",
     "output_type": "stream",
     "text": [
      "Step 77\n",
      "  (Right)\n",
      "SFFFFFFF\n",
      "FFFFFFFF\n",
      "FFFHFFFF\n",
      "FFFFFHFF\n",
      "FFFHFFFF\n",
      "FHHFFFHF\n",
      "FHFFHFHF\n",
      "FFFHFFF\u001b[41mG\u001b[0m\n",
      "1.0\n"
     ]
    }
   ],
   "source": [
    "wi  = play(policy)\n",
    "print(wi)"
   ]
  }
 ],
 "metadata": {
  "kernelspec": {
   "display_name": "Python 3",
   "language": "python",
   "name": "python3"
  },
  "language_info": {
   "codemirror_mode": {
    "name": "ipython",
    "version": 3
   },
   "file_extension": ".py",
   "mimetype": "text/x-python",
   "name": "python",
   "nbconvert_exporter": "python",
   "pygments_lexer": "ipython3",
   "version": "3.9.1"
  }
 },
 "nbformat": 4,
 "nbformat_minor": 5
}
